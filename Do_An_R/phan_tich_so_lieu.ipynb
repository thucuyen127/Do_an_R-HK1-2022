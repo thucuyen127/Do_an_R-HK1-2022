{
 "cells": [
  {
   "cell_type": "markdown",
   "id": "7180dd59",
   "metadata": {},
   "source": [
    "## **Phân tích dữ liệu các mặt hàng điện tử và đánh giá của người tiêu dùng trên thế giới di động**"
   ]
  },
  {
   "cell_type": "code",
   "execution_count": 1,
   "id": "1ea7e25a",
   "metadata": {},
   "outputs": [],
   "source": [
    "#import thư viện cần thiết\n",
    "import pandas as pd\n",
    "import numpy as np\n",
    "import matplotlib.pyplot as plt\n",
    "import seaborn as sns\n",
    "import statistics as sts\n",
    "from scipy import stats"
   ]
  },
  {
   "cell_type": "code",
   "execution_count": 2,
   "id": "646ae848",
   "metadata": {},
   "outputs": [],
   "source": [
    "#Đọc 2 tập dữ liệu đã thu thập bằng pandas\n",
    "\n",
    "df_item = pd.read_csv('output.csv')\n",
    "df_reviews = pd.read_csv('output2.csv')"
   ]
  },
  {
   "cell_type": "markdown",
   "id": "583d23c3",
   "metadata": {},
   "source": [
    "## Xử lý dữ liệu (tiền phân tích)"
   ]
  },
  {
   "cell_type": "code",
   "execution_count": 3,
   "id": "c84d4f7f",
   "metadata": {},
   "outputs": [
    {
     "name": "stdout",
     "output_type": "stream",
     "text": [
      "Dataframe của các mặt hàng có số hàng là 390 và số cột là 9\n",
      "Dataframe đánh giá của người tiêu dùng có số hàng là 20438 và số cột là 5\n"
     ]
    }
   ],
   "source": [
    "#Hiển thị số lượng hàng và cột trên Dataset\n",
    "print('Dataframe của các mặt hàng có số hàng là {} và số cột là {}'.format(df_item.shape[0], df_item.shape[1]))\n",
    "print('Dataframe đánh giá của người tiêu dùng có số hàng là {} và số cột là {}'.format(df_reviews.shape[0], df_reviews.shape[1]))"
   ]
  },
  {
   "cell_type": "code",
   "execution_count": 4,
   "id": "34841e87",
   "metadata": {},
   "outputs": [
    {
     "data": {
      "text/html": [
       "<div>\n",
       "<style scoped>\n",
       "    .dataframe tbody tr th:only-of-type {\n",
       "        vertical-align: middle;\n",
       "    }\n",
       "\n",
       "    .dataframe tbody tr th {\n",
       "        vertical-align: top;\n",
       "    }\n",
       "\n",
       "    .dataframe thead th {\n",
       "        text-align: right;\n",
       "    }\n",
       "</style>\n",
       "<table border=\"1\" class=\"dataframe\">\n",
       "  <thead>\n",
       "    <tr style=\"text-align: right;\">\n",
       "      <th></th>\n",
       "      <th>Item ID</th>\n",
       "      <th>Item Category</th>\n",
       "      <th>Item Name</th>\n",
       "      <th>Brand Name</th>\n",
       "      <th>Item URL</th>\n",
       "      <th>Price</th>\n",
       "      <th>Rate</th>\n",
       "      <th>Total Reviews</th>\n",
       "      <th>Retrieved Date</th>\n",
       "    </tr>\n",
       "  </thead>\n",
       "  <tbody>\n",
       "    <tr>\n",
       "      <th>0</th>\n",
       "      <td>226935</td>\n",
       "      <td>Smartphone</td>\n",
       "      <td>Samsung Galaxy Z Fold3 5G 256GB</td>\n",
       "      <td>Samsung</td>\n",
       "      <td>https://www.thegioididong.com/dtdd/samsung-gal...</td>\n",
       "      <td>41990000</td>\n",
       "      <td>4.8</td>\n",
       "      <td>12</td>\n",
       "      <td>01/03/2022</td>\n",
       "    </tr>\n",
       "    <tr>\n",
       "      <th>1</th>\n",
       "      <td>153856</td>\n",
       "      <td>Smartphone</td>\n",
       "      <td>iPhone 11</td>\n",
       "      <td>Apple</td>\n",
       "      <td>https://www.thegioididong.com/dtdd/iphone-11?s...</td>\n",
       "      <td>16990000</td>\n",
       "      <td>3.6</td>\n",
       "      <td>497</td>\n",
       "      <td>01/03/2022</td>\n",
       "    </tr>\n",
       "    <tr>\n",
       "      <th>2</th>\n",
       "      <td>248293</td>\n",
       "      <td>Smartphone</td>\n",
       "      <td>Xiaomi 11T 5G 128GB</td>\n",
       "      <td>Xiaomi</td>\n",
       "      <td>https://www.thegioididong.com/dtdd/xiaomi-11t?...</td>\n",
       "      <td>10990000</td>\n",
       "      <td>4.2</td>\n",
       "      <td>111</td>\n",
       "      <td>01/03/2022</td>\n",
       "    </tr>\n",
       "    <tr>\n",
       "      <th>3</th>\n",
       "      <td>234315</td>\n",
       "      <td>Smartphone</td>\n",
       "      <td>Samsung Galaxy A32</td>\n",
       "      <td>Samsung</td>\n",
       "      <td>https://www.thegioididong.com/dtdd/samsung-gal...</td>\n",
       "      <td>6490000</td>\n",
       "      <td>2.9</td>\n",
       "      <td>540</td>\n",
       "      <td>01/03/2022</td>\n",
       "    </tr>\n",
       "    <tr>\n",
       "      <th>4</th>\n",
       "      <td>239747</td>\n",
       "      <td>Smartphone</td>\n",
       "      <td>OPPO Reno6 Z 5G</td>\n",
       "      <td>OPPO</td>\n",
       "      <td>https://www.thegioididong.com/dtdd/oppo-reno6-...</td>\n",
       "      <td>9490000</td>\n",
       "      <td>3.6</td>\n",
       "      <td>413</td>\n",
       "      <td>01/03/2022</td>\n",
       "    </tr>\n",
       "  </tbody>\n",
       "</table>\n",
       "</div>"
      ],
      "text/plain": [
       "   Item ID Item Category                        Item Name Brand Name  \\\n",
       "0   226935    Smartphone  Samsung Galaxy Z Fold3 5G 256GB    Samsung   \n",
       "1   153856    Smartphone                        iPhone 11      Apple   \n",
       "2   248293    Smartphone              Xiaomi 11T 5G 128GB     Xiaomi   \n",
       "3   234315    Smartphone               Samsung Galaxy A32    Samsung   \n",
       "4   239747    Smartphone                  OPPO Reno6 Z 5G       OPPO   \n",
       "\n",
       "                                            Item URL     Price  Rate  \\\n",
       "0  https://www.thegioididong.com/dtdd/samsung-gal...  41990000   4.8   \n",
       "1  https://www.thegioididong.com/dtdd/iphone-11?s...  16990000   3.6   \n",
       "2  https://www.thegioididong.com/dtdd/xiaomi-11t?...  10990000   4.2   \n",
       "3  https://www.thegioididong.com/dtdd/samsung-gal...   6490000   2.9   \n",
       "4  https://www.thegioididong.com/dtdd/oppo-reno6-...   9490000   3.6   \n",
       "\n",
       "   Total Reviews Retrieved Date  \n",
       "0             12     01/03/2022  \n",
       "1            497     01/03/2022  \n",
       "2            111     01/03/2022  \n",
       "3            540     01/03/2022  \n",
       "4            413     01/03/2022  "
      ]
     },
     "execution_count": 4,
     "metadata": {},
     "output_type": "execute_result"
    }
   ],
   "source": [
    "#Hiển thị 5 index đầu của dataframe\n",
    "df_item.head()"
   ]
  },
  {
   "cell_type": "code",
   "execution_count": 5,
   "id": "055c2ad4",
   "metadata": {},
   "outputs": [
    {
     "data": {
      "text/html": [
       "<div>\n",
       "<style scoped>\n",
       "    .dataframe tbody tr th:only-of-type {\n",
       "        vertical-align: middle;\n",
       "    }\n",
       "\n",
       "    .dataframe tbody tr th {\n",
       "        vertical-align: top;\n",
       "    }\n",
       "\n",
       "    .dataframe thead th {\n",
       "        text-align: right;\n",
       "    }\n",
       "</style>\n",
       "<table border=\"1\" class=\"dataframe\">\n",
       "  <thead>\n",
       "    <tr style=\"text-align: right;\">\n",
       "      <th></th>\n",
       "      <th>Name of reviewer</th>\n",
       "      <th>Category</th>\n",
       "      <th>rate</th>\n",
       "      <th>content</th>\n",
       "      <th>brand of Item</th>\n",
       "    </tr>\n",
       "  </thead>\n",
       "  <tbody>\n",
       "    <tr>\n",
       "      <th>0</th>\n",
       "      <td>Trần Hồng Thịnh</td>\n",
       "      <td>Smartphone</td>\n",
       "      <td>5</td>\n",
       "      <td>Sản phẩm tốt. Nhân viên hỗ trợ nhiệt tình. Chơ...</td>\n",
       "      <td>Samsung</td>\n",
       "    </tr>\n",
       "    <tr>\n",
       "      <th>1</th>\n",
       "      <td>Nguyễn Tấn Đạt</td>\n",
       "      <td>Smartphone</td>\n",
       "      <td>5</td>\n",
       "      <td>Sử dụng song song với ip 12 promax. Thật sự tr...</td>\n",
       "      <td>Samsung</td>\n",
       "    </tr>\n",
       "    <tr>\n",
       "      <th>2</th>\n",
       "      <td>Lan</td>\n",
       "      <td>Smartphone</td>\n",
       "      <td>4</td>\n",
       "      <td>Chuyển từ note qua và có nhận xét là về sang t...</td>\n",
       "      <td>Samsung</td>\n",
       "    </tr>\n",
       "    <tr>\n",
       "      <th>3</th>\n",
       "      <td>Tung Tung</td>\n",
       "      <td>Smartphone</td>\n",
       "      <td>5</td>\n",
       "      <td>Quá sang trọng, quá ngon, giá so với các sản p...</td>\n",
       "      <td>Samsung</td>\n",
       "    </tr>\n",
       "    <tr>\n",
       "      <th>4</th>\n",
       "      <td>Duncan Nguyen</td>\n",
       "      <td>Smartphone</td>\n",
       "      <td>5</td>\n",
       "      <td>ádfassdasdfasdygfuiasyfyvffasfyavsyfdbasudfbas...</td>\n",
       "      <td>Samsung</td>\n",
       "    </tr>\n",
       "  </tbody>\n",
       "</table>\n",
       "</div>"
      ],
      "text/plain": [
       "  Name of reviewer    Category  rate  \\\n",
       "0  Trần Hồng Thịnh  Smartphone     5   \n",
       "1   Nguyễn Tấn Đạt  Smartphone     5   \n",
       "2              Lan  Smartphone     4   \n",
       "3        Tung Tung  Smartphone     5   \n",
       "4    Duncan Nguyen  Smartphone     5   \n",
       "\n",
       "                                             content brand of Item  \n",
       "0  Sản phẩm tốt. Nhân viên hỗ trợ nhiệt tình. Chơ...       Samsung  \n",
       "1  Sử dụng song song với ip 12 promax. Thật sự tr...       Samsung  \n",
       "2  Chuyển từ note qua và có nhận xét là về sang t...       Samsung  \n",
       "3  Quá sang trọng, quá ngon, giá so với các sản p...       Samsung  \n",
       "4  ádfassdasdfasdygfuiasyfyvffasfyavsyfdbasudfbas...       Samsung  "
      ]
     },
     "execution_count": 5,
     "metadata": {},
     "output_type": "execute_result"
    }
   ],
   "source": [
    "df_reviews.head()"
   ]
  },
  {
   "cell_type": "markdown",
   "id": "eaddb927",
   "metadata": {},
   "source": [
    "### làm sạch dữ liệu"
   ]
  },
  {
   "cell_type": "code",
   "execution_count": 6,
   "id": "e2feff7b",
   "metadata": {},
   "outputs": [
    {
     "data": {
      "text/plain": [
       "Index(['Item ID', 'Item Category', 'Item Name', 'Brand Name', 'Item URL',\n",
       "       'Price', 'Rate', 'Total Reviews', 'Retrieved Date'],\n",
       "      dtype='object')"
      ]
     },
     "execution_count": 6,
     "metadata": {},
     "output_type": "execute_result"
    }
   ],
   "source": [
    "#Hiện thị tên cột của dataset\n",
    "df_item.columns"
   ]
  },
  {
   "cell_type": "code",
   "execution_count": 7,
   "id": "69bce019",
   "metadata": {},
   "outputs": [],
   "source": [
    "df_item.drop(['Item ID', 'Item URL', 'Retrieved Date','Item Name' ],axis=1,inplace=True)"
   ]
  },
  {
   "cell_type": "code",
   "execution_count": 8,
   "id": "44735797",
   "metadata": {},
   "outputs": [
    {
     "data": {
      "text/plain": [
       "Index(['Name of reviewer', 'Category', 'rate', 'content', 'brand of Item'], dtype='object')"
      ]
     },
     "execution_count": 8,
     "metadata": {},
     "output_type": "execute_result"
    }
   ],
   "source": [
    "df_reviews.columns"
   ]
  },
  {
   "cell_type": "code",
   "execution_count": 9,
   "id": "a898d3ac",
   "metadata": {},
   "outputs": [],
   "source": [
    "df_reviews.drop(['Name of reviewer', 'content' ],axis=1,inplace=True)"
   ]
  },
  {
   "cell_type": "code",
   "execution_count": 10,
   "id": "930aedde",
   "metadata": {},
   "outputs": [
    {
     "name": "stderr",
     "output_type": "stream",
     "text": [
      "<ipython-input-10-36a2c144e037>:5: SettingWithCopyWarning: \n",
      "A value is trying to be set on a copy of a slice from a DataFrame\n",
      "\n",
      "See the caveats in the documentation: https://pandas.pydata.org/pandas-docs/stable/user_guide/indexing.html#returning-a-view-versus-a-copy\n",
      "  df_reviews[\"brand of Item\"][i] = df_reviews[\"brand of Item\"][i]\n",
      "<ipython-input-10-36a2c144e037>:7: SettingWithCopyWarning: \n",
      "A value is trying to be set on a copy of a slice from a DataFrame\n",
      "\n",
      "See the caveats in the documentation: https://pandas.pydata.org/pandas-docs/stable/user_guide/indexing.html#returning-a-view-versus-a-copy\n",
      "  df_reviews[\"brand of Item\"][i] = \"Other\"\n"
     ]
    }
   ],
   "source": [
    "n = len(df_reviews[\"brand of Item\"])\n",
    "cate = [\"Apple\", \"Samsung\", \"OPPO\", \"Xiaomi\", 'Realme']\n",
    "for i in range(n):\n",
    "    if df_reviews[\"brand of Item\"][i] in cate:\n",
    "        df_reviews[\"brand of Item\"][i] = df_reviews[\"brand of Item\"][i]\n",
    "    else:\n",
    "        df_reviews[\"brand of Item\"][i] = \"Other\""
   ]
  },
  {
   "cell_type": "code",
   "execution_count": 11,
   "id": "1b2b90e2",
   "metadata": {},
   "outputs": [],
   "source": [
    "z = []\n",
    "n = len(df_item[\"Brand Name\"])\n",
    "for i in range(n):\n",
    "    if df_item[\"Rate\"][i] == 0:\n",
    "        z.append(i)\n",
    "\n",
    "df_item = df_item.drop(z)\n",
    "        "
   ]
  },
  {
   "cell_type": "markdown",
   "id": "7e0f0079",
   "metadata": {},
   "source": [
    "- Xử lý các dữ liệu bị thiếu"
   ]
  },
  {
   "cell_type": "code",
   "execution_count": 12,
   "id": "380f9383",
   "metadata": {},
   "outputs": [
    {
     "data": {
      "text/plain": [
       "Item Category    0\n",
       "Brand Name       0\n",
       "Price            0\n",
       "Rate             0\n",
       "Total Reviews    0\n",
       "dtype: int64"
      ]
     },
     "execution_count": 12,
     "metadata": {},
     "output_type": "execute_result"
    }
   ],
   "source": [
    "#Kiểm tra các giá trị bị thiếu\n",
    "df_item.isnull().sum()"
   ]
  },
  {
   "cell_type": "code",
   "execution_count": 13,
   "id": "fb15dbe5",
   "metadata": {},
   "outputs": [
    {
     "data": {
      "text/plain": [
       "Category         0\n",
       "rate             0\n",
       "brand of Item    0\n",
       "dtype: int64"
      ]
     },
     "execution_count": 13,
     "metadata": {},
     "output_type": "execute_result"
    }
   ],
   "source": [
    "df_reviews.isnull().sum()"
   ]
  },
  {
   "cell_type": "code",
   "execution_count": 14,
   "id": "030c55a2",
   "metadata": {},
   "outputs": [
    {
     "data": {
      "text/html": [
       "<div>\n",
       "<style scoped>\n",
       "    .dataframe tbody tr th:only-of-type {\n",
       "        vertical-align: middle;\n",
       "    }\n",
       "\n",
       "    .dataframe tbody tr th {\n",
       "        vertical-align: top;\n",
       "    }\n",
       "\n",
       "    .dataframe thead th {\n",
       "        text-align: right;\n",
       "    }\n",
       "</style>\n",
       "<table border=\"1\" class=\"dataframe\">\n",
       "  <thead>\n",
       "    <tr style=\"text-align: right;\">\n",
       "      <th></th>\n",
       "      <th>Item Category</th>\n",
       "      <th>Brand Name</th>\n",
       "      <th>Price</th>\n",
       "      <th>Rate</th>\n",
       "      <th>Total Reviews</th>\n",
       "    </tr>\n",
       "  </thead>\n",
       "  <tbody>\n",
       "    <tr>\n",
       "      <th>0</th>\n",
       "      <td>Smartphone</td>\n",
       "      <td>Samsung</td>\n",
       "      <td>41990000</td>\n",
       "      <td>4.8</td>\n",
       "      <td>12</td>\n",
       "    </tr>\n",
       "    <tr>\n",
       "      <th>1</th>\n",
       "      <td>Smartphone</td>\n",
       "      <td>Apple</td>\n",
       "      <td>16990000</td>\n",
       "      <td>3.6</td>\n",
       "      <td>497</td>\n",
       "    </tr>\n",
       "    <tr>\n",
       "      <th>2</th>\n",
       "      <td>Smartphone</td>\n",
       "      <td>Xiaomi</td>\n",
       "      <td>10990000</td>\n",
       "      <td>4.2</td>\n",
       "      <td>111</td>\n",
       "    </tr>\n",
       "    <tr>\n",
       "      <th>3</th>\n",
       "      <td>Smartphone</td>\n",
       "      <td>Samsung</td>\n",
       "      <td>6490000</td>\n",
       "      <td>2.9</td>\n",
       "      <td>540</td>\n",
       "    </tr>\n",
       "    <tr>\n",
       "      <th>4</th>\n",
       "      <td>Smartphone</td>\n",
       "      <td>OPPO</td>\n",
       "      <td>9490000</td>\n",
       "      <td>3.6</td>\n",
       "      <td>413</td>\n",
       "    </tr>\n",
       "  </tbody>\n",
       "</table>\n",
       "</div>"
      ],
      "text/plain": [
       "  Item Category Brand Name     Price  Rate  Total Reviews\n",
       "0    Smartphone    Samsung  41990000   4.8             12\n",
       "1    Smartphone      Apple  16990000   3.6            497\n",
       "2    Smartphone     Xiaomi  10990000   4.2            111\n",
       "3    Smartphone    Samsung   6490000   2.9            540\n",
       "4    Smartphone       OPPO   9490000   3.6            413"
      ]
     },
     "execution_count": 14,
     "metadata": {},
     "output_type": "execute_result"
    }
   ],
   "source": [
    "df_item.head()"
   ]
  },
  {
   "cell_type": "code",
   "execution_count": 15,
   "id": "c821c184",
   "metadata": {},
   "outputs": [
    {
     "data": {
      "text/html": [
       "<div>\n",
       "<style scoped>\n",
       "    .dataframe tbody tr th:only-of-type {\n",
       "        vertical-align: middle;\n",
       "    }\n",
       "\n",
       "    .dataframe tbody tr th {\n",
       "        vertical-align: top;\n",
       "    }\n",
       "\n",
       "    .dataframe thead th {\n",
       "        text-align: right;\n",
       "    }\n",
       "</style>\n",
       "<table border=\"1\" class=\"dataframe\">\n",
       "  <thead>\n",
       "    <tr style=\"text-align: right;\">\n",
       "      <th></th>\n",
       "      <th>Category</th>\n",
       "      <th>rate</th>\n",
       "      <th>brand of Item</th>\n",
       "    </tr>\n",
       "  </thead>\n",
       "  <tbody>\n",
       "    <tr>\n",
       "      <th>0</th>\n",
       "      <td>Smartphone</td>\n",
       "      <td>5</td>\n",
       "      <td>Samsung</td>\n",
       "    </tr>\n",
       "    <tr>\n",
       "      <th>1</th>\n",
       "      <td>Smartphone</td>\n",
       "      <td>5</td>\n",
       "      <td>Samsung</td>\n",
       "    </tr>\n",
       "    <tr>\n",
       "      <th>2</th>\n",
       "      <td>Smartphone</td>\n",
       "      <td>4</td>\n",
       "      <td>Samsung</td>\n",
       "    </tr>\n",
       "    <tr>\n",
       "      <th>3</th>\n",
       "      <td>Smartphone</td>\n",
       "      <td>5</td>\n",
       "      <td>Samsung</td>\n",
       "    </tr>\n",
       "    <tr>\n",
       "      <th>4</th>\n",
       "      <td>Smartphone</td>\n",
       "      <td>5</td>\n",
       "      <td>Samsung</td>\n",
       "    </tr>\n",
       "  </tbody>\n",
       "</table>\n",
       "</div>"
      ],
      "text/plain": [
       "     Category  rate brand of Item\n",
       "0  Smartphone     5       Samsung\n",
       "1  Smartphone     5       Samsung\n",
       "2  Smartphone     4       Samsung\n",
       "3  Smartphone     5       Samsung\n",
       "4  Smartphone     5       Samsung"
      ]
     },
     "execution_count": 15,
     "metadata": {},
     "output_type": "execute_result"
    }
   ],
   "source": [
    "df_reviews.head()"
   ]
  },
  {
   "cell_type": "code",
   "execution_count": 16,
   "id": "6eca5aa4",
   "metadata": {},
   "outputs": [
    {
     "name": "stdout",
     "output_type": "stream",
     "text": [
      "<class 'pandas.core.frame.DataFrame'>\n",
      "Int64Index: 258 entries, 0 to 389\n",
      "Data columns (total 5 columns):\n",
      " #   Column         Non-Null Count  Dtype  \n",
      "---  ------         --------------  -----  \n",
      " 0   Item Category  258 non-null    object \n",
      " 1   Brand Name     258 non-null    object \n",
      " 2   Price          258 non-null    int64  \n",
      " 3   Rate           258 non-null    float64\n",
      " 4   Total Reviews  258 non-null    int64  \n",
      "dtypes: float64(1), int64(2), object(2)\n",
      "memory usage: 12.1+ KB\n"
     ]
    }
   ],
   "source": [
    "df_item.info()"
   ]
  },
  {
   "cell_type": "code",
   "execution_count": 17,
   "id": "bb20946e",
   "metadata": {},
   "outputs": [
    {
     "name": "stdout",
     "output_type": "stream",
     "text": [
      "<class 'pandas.core.frame.DataFrame'>\n",
      "RangeIndex: 20438 entries, 0 to 20437\n",
      "Data columns (total 3 columns):\n",
      " #   Column         Non-Null Count  Dtype \n",
      "---  ------         --------------  ----- \n",
      " 0   Category       20438 non-null  object\n",
      " 1   rate           20438 non-null  int64 \n",
      " 2   brand of Item  20438 non-null  object\n",
      "dtypes: int64(1), object(2)\n",
      "memory usage: 479.1+ KB\n"
     ]
    }
   ],
   "source": [
    "df_reviews.info()"
   ]
  },
  {
   "cell_type": "markdown",
   "id": "b747a2f5",
   "metadata": {},
   "source": [
    "## Tính các giá trị hướng tâm cho các biện định lượng"
   ]
  },
  {
   "cell_type": "code",
   "execution_count": 18,
   "id": "a76064eb",
   "metadata": {},
   "outputs": [
    {
     "data": {
      "text/html": [
       "<div>\n",
       "<style scoped>\n",
       "    .dataframe tbody tr th:only-of-type {\n",
       "        vertical-align: middle;\n",
       "    }\n",
       "\n",
       "    .dataframe tbody tr th {\n",
       "        vertical-align: top;\n",
       "    }\n",
       "\n",
       "    .dataframe thead th {\n",
       "        text-align: right;\n",
       "    }\n",
       "</style>\n",
       "<table border=\"1\" class=\"dataframe\">\n",
       "  <thead>\n",
       "    <tr style=\"text-align: right;\">\n",
       "      <th></th>\n",
       "      <th>Price</th>\n",
       "      <th>Rate</th>\n",
       "      <th>Total Reviews</th>\n",
       "    </tr>\n",
       "  </thead>\n",
       "  <tbody>\n",
       "    <tr>\n",
       "      <th>count</th>\n",
       "      <td>2.580000e+02</td>\n",
       "      <td>258.000000</td>\n",
       "      <td>258.000000</td>\n",
       "    </tr>\n",
       "    <tr>\n",
       "      <th>mean</th>\n",
       "      <td>5.429344e+06</td>\n",
       "      <td>3.446899</td>\n",
       "      <td>78.395349</td>\n",
       "    </tr>\n",
       "    <tr>\n",
       "      <th>std</th>\n",
       "      <td>7.389532e+06</td>\n",
       "      <td>0.775808</td>\n",
       "      <td>117.900500</td>\n",
       "    </tr>\n",
       "    <tr>\n",
       "      <th>min</th>\n",
       "      <td>1.500000e+03</td>\n",
       "      <td>1.200000</td>\n",
       "      <td>3.000000</td>\n",
       "    </tr>\n",
       "    <tr>\n",
       "      <th>25%</th>\n",
       "      <td>4.125000e+05</td>\n",
       "      <td>2.925000</td>\n",
       "      <td>13.000000</td>\n",
       "    </tr>\n",
       "    <tr>\n",
       "      <th>50%</th>\n",
       "      <td>1.395000e+06</td>\n",
       "      <td>3.500000</td>\n",
       "      <td>32.500000</td>\n",
       "    </tr>\n",
       "    <tr>\n",
       "      <th>75%</th>\n",
       "      <td>8.365000e+06</td>\n",
       "      <td>4.000000</td>\n",
       "      <td>91.500000</td>\n",
       "    </tr>\n",
       "    <tr>\n",
       "      <th>max</th>\n",
       "      <td>4.199000e+07</td>\n",
       "      <td>5.000000</td>\n",
       "      <td>791.000000</td>\n",
       "    </tr>\n",
       "  </tbody>\n",
       "</table>\n",
       "</div>"
      ],
      "text/plain": [
       "              Price        Rate  Total Reviews\n",
       "count  2.580000e+02  258.000000     258.000000\n",
       "mean   5.429344e+06    3.446899      78.395349\n",
       "std    7.389532e+06    0.775808     117.900500\n",
       "min    1.500000e+03    1.200000       3.000000\n",
       "25%    4.125000e+05    2.925000      13.000000\n",
       "50%    1.395000e+06    3.500000      32.500000\n",
       "75%    8.365000e+06    4.000000      91.500000\n",
       "max    4.199000e+07    5.000000     791.000000"
      ]
     },
     "execution_count": 18,
     "metadata": {},
     "output_type": "execute_result"
    }
   ],
   "source": [
    "df_item.describe()"
   ]
  },
  {
   "cell_type": "code",
   "execution_count": 19,
   "id": "70dd8cc4",
   "metadata": {},
   "outputs": [
    {
     "data": {
      "text/html": [
       "<div>\n",
       "<style scoped>\n",
       "    .dataframe tbody tr th:only-of-type {\n",
       "        vertical-align: middle;\n",
       "    }\n",
       "\n",
       "    .dataframe tbody tr th {\n",
       "        vertical-align: top;\n",
       "    }\n",
       "\n",
       "    .dataframe thead th {\n",
       "        text-align: right;\n",
       "    }\n",
       "</style>\n",
       "<table border=\"1\" class=\"dataframe\">\n",
       "  <thead>\n",
       "    <tr style=\"text-align: right;\">\n",
       "      <th></th>\n",
       "      <th>rate</th>\n",
       "    </tr>\n",
       "  </thead>\n",
       "  <tbody>\n",
       "    <tr>\n",
       "      <th>count</th>\n",
       "      <td>20438.000000</td>\n",
       "    </tr>\n",
       "    <tr>\n",
       "      <th>mean</th>\n",
       "      <td>3.572463</td>\n",
       "    </tr>\n",
       "    <tr>\n",
       "      <th>std</th>\n",
       "      <td>1.443293</td>\n",
       "    </tr>\n",
       "    <tr>\n",
       "      <th>min</th>\n",
       "      <td>1.000000</td>\n",
       "    </tr>\n",
       "    <tr>\n",
       "      <th>25%</th>\n",
       "      <td>3.000000</td>\n",
       "    </tr>\n",
       "    <tr>\n",
       "      <th>50%</th>\n",
       "      <td>4.000000</td>\n",
       "    </tr>\n",
       "    <tr>\n",
       "      <th>75%</th>\n",
       "      <td>5.000000</td>\n",
       "    </tr>\n",
       "    <tr>\n",
       "      <th>max</th>\n",
       "      <td>5.000000</td>\n",
       "    </tr>\n",
       "  </tbody>\n",
       "</table>\n",
       "</div>"
      ],
      "text/plain": [
       "               rate\n",
       "count  20438.000000\n",
       "mean       3.572463\n",
       "std        1.443293\n",
       "min        1.000000\n",
       "25%        3.000000\n",
       "50%        4.000000\n",
       "75%        5.000000\n",
       "max        5.000000"
      ]
     },
     "execution_count": 19,
     "metadata": {},
     "output_type": "execute_result"
    }
   ],
   "source": [
    "df_reviews.describe()"
   ]
  },
  {
   "cell_type": "markdown",
   "id": "1630c8f3",
   "metadata": {},
   "source": [
    "## vẽ biểu đồ column chart cho các biến định tính"
   ]
  },
  {
   "cell_type": "code",
   "execution_count": 20,
   "id": "0338f3c2",
   "metadata": {},
   "outputs": [],
   "source": [
    "def column(df,data):\n",
    "    x = df.groupby(data.name)[data.name].count()\n",
    "    y = pd.DataFrame(x)\n",
    "    y.columns = ['Số người']\n",
    "    if len(y['Số người']) < 7:\n",
    "        print(y)\n",
    "    y.reset_index(inplace=True)\n",
    "\n",
    "    ax =sns.barplot(x=data.name,y='Số người',data = y)\n",
    "    plt.title('Column chart ', size=20, color='r')\n",
    "    plt.show()"
   ]
  },
  {
   "cell_type": "code",
   "execution_count": 21,
   "id": "c9f8be31",
   "metadata": {},
   "outputs": [
    {
     "name": "stdout",
     "output_type": "stream",
     "text": [
      "                             Số người\n",
      "Item Category                        \n",
      "Basic mouse                        35\n",
      "Rechargeable battery backup        67\n",
      "Smart watch                        18\n",
      "Smartphone                        124\n",
      "Tablet                             14\n"
     ]
    },
    {
     "data": {
      "image/png": "[encoded data removed]",
      "text/plain": [
       "<Figure size 432x288 with 1 Axes>"
      ]
     },
     "metadata": {
      "needs_background": "light"
     },
     "output_type": "display_data"
    }
   ],
   "source": [
    "column(df_item, df_item['Item Category'])"
   ]
  },
  {
   "cell_type": "code",
   "execution_count": 22,
   "id": "27465870",
   "metadata": {},
   "outputs": [
    {
     "data": {
      "image/png": "[encoded data removed]",
      "text/plain": [
       "<Figure size 432x288 with 1 Axes>"
      ]
     },
     "metadata": {
      "needs_background": "light"
     },
     "output_type": "display_data"
    }
   ],
   "source": [
    "column(df_item, df_item['Rate'])"
   ]
  },
  {
   "cell_type": "code",
   "execution_count": 23,
   "id": "b328aabd",
   "metadata": {},
   "outputs": [
    {
     "name": "stdout",
     "output_type": "stream",
     "text": [
      "      Số người\n",
      "rate          \n",
      "1         2823\n",
      "2         2221\n",
      "3         3922\n",
      "4         3377\n",
      "5         8095\n"
     ]
    },
    {
     "data": {
      "image/png": "[encoded data removed]",
      "text/plain": [
       "<Figure size 432x288 with 1 Axes>"
      ]
     },
     "metadata": {
      "needs_background": "light"
     },
     "output_type": "display_data"
    }
   ],
   "source": [
    "column(df_reviews, df_reviews['rate'])"
   ]
  },
  {
   "cell_type": "code",
   "execution_count": 24,
   "id": "c355281f",
   "metadata": {},
   "outputs": [
    {
     "data": {
      "text/plain": [
       "<AxesSubplot:>"
      ]
     },
     "execution_count": 24,
     "metadata": {},
     "output_type": "execute_result"
    },
    {
     "data": {
      "image/png": "[encoded data removed]",
      "text/plain": [
       "<Figure size 432x288 with 1 Axes>"
      ]
     },
     "metadata": {
      "needs_background": "light"
     },
     "output_type": "display_data"
    }
   ],
   "source": [
    "df_item['Brand Name'].value_counts().sort_index().plot.barh()"
   ]
  },
  {
   "cell_type": "markdown",
   "id": "a2bab287",
   "metadata": {},
   "source": [
    "# dùng t-test để so sánh điểm đánh giá của Smartphones và Rechargeable battery backup"
   ]
  },
  {
   "cell_type": "code",
   "execution_count": 25,
   "id": "ad687dd2",
   "metadata": {},
   "outputs": [],
   "source": [
    "dtn = df_item[['Item Category', 'Rate']]\n",
    "cate = dtn.groupby('Item Category').groups\n",
    "\n",
    "# Lấy giá trị tương ứng ở cột Điểm cuối kỳ\n",
    "\n",
    "dth = df_item['Rate'][cate['Smartphone']]\n",
    "dth.name = 'Smartphone'\n",
    "pin = df_item['Rate'][cate['Rechargeable battery backup']]\n",
    "pin.name = 'Rechargeable battery backup'\n",
    "\n",
    "dtdd = dtn[dtn['Item Category']=='Smartphone']\n",
    "sdp = dtn[dtn['Item Category']=='Rechargeable battery backup']\n",
    "df_new = pd.concat([dtdd, sdp])\n"
   ]
  },
  {
   "cell_type": "markdown",
   "id": "faef7177",
   "metadata": {},
   "source": [
    "   # Phát biểu giả thiết:\n",
    "\n",
    "- $H_0: \\mu_0 = \\mu_1$. Điểm đánh giá của các sản phẩm điện thoại và sạc dự phòng là như nhau.\n",
    "\n",
    "- $H_1: \\mu_0 \\neq \\mu_1$.Điểm đánh giá của các sản phẩm điện thoại và sạc dự phòng là có sự khác biệt."
   ]
  },
  {
   "cell_type": "code",
   "execution_count": 26,
   "id": "f65a1ed2",
   "metadata": {},
   "outputs": [
    {
     "name": "stdout",
     "output_type": "stream",
     "text": [
      "Giá trị kiểm định =  0.26517814996953276\n",
      "pvalue  =  0.791429212507685\n",
      "Không có bằng chứng để bác bỏ H0: 𝜇0=𝜇1 \n",
      "Điều này ngụ ý là: 𝜇0=𝜇1. Điểm đánh giá của các sản phẩm điện thoại và sạc dự phòng là như nhau.\n",
      "----------------------------------------------------------------------------------------------------\n"
     ]
    }
   ],
   "source": [
    "# Kiểm định T-test:\n",
    "pins = pin.sample(50)\n",
    "dths = dth.sample(50)\n",
    "\n",
    "stt, pv = stats.ttest_ind(dths, pins)\n",
    "print('Giá trị kiểm định = ',stt)\n",
    "print('pvalue  = ',pv)\n",
    "if (pv > 0.05):\n",
    "    print(\"Không có bằng chứng để bác bỏ H0: 𝜇0=𝜇1 \")\n",
    "    print('Điều này ngụ ý là: 𝜇0=𝜇1. Điểm đánh giá của các sản phẩm điện thoại và sạc dự phòng là như nhau.')\n",
    "else:\n",
    "    print('đã có đủ bằng chứng để bác bỏ H0: 𝜇0=𝜇1 ')\n",
    "    print('ta chấp nhận giả thiết Ha với mức ý nghĩa là 5%')\n",
    "    print(' Điểm đánh giá của các sản phẩm điện thoại và sạc dự phòng là có sự khác biệt')\n",
    "print('-'*100)"
   ]
  },
  {
   "cell_type": "code",
   "execution_count": 27,
   "id": "d779c553",
   "metadata": {},
   "outputs": [
    {
     "name": "stderr",
     "output_type": "stream",
     "text": [
      "C:\\Users\\ACER\\anaconda3\\lib\\site-packages\\seaborn\\distributions.py:2557: FutureWarning: `distplot` is a deprecated function and will be removed in a future version. Please adapt your code to use either `displot` (a figure-level function with similar flexibility) or `histplot` (an axes-level function for histograms).\n",
      "  warnings.warn(msg, FutureWarning)\n",
      "C:\\Users\\ACER\\anaconda3\\lib\\site-packages\\seaborn\\distributions.py:2557: FutureWarning: `distplot` is a deprecated function and will be removed in a future version. Please adapt your code to use either `displot` (a figure-level function with similar flexibility) or `histplot` (an axes-level function for histograms).\n",
      "  warnings.warn(msg, FutureWarning)\n"
     ]
    },
    {
     "data": {
      "image/png": "[encoded data removed]",
      "text/plain": [
       "<Figure size 432x288 with 1 Axes>"
      ]
     },
     "metadata": {
      "needs_background": "light"
     },
     "output_type": "display_data"
    }
   ],
   "source": [
    "plt.figure()\n",
    "ax1 = sns.distplot(dth)\n",
    "ax2 = sns.distplot(pin)\n",
    "plt.axvline(np.mean(dth), color='b', linestyle='dashed', linewidth=5, label=\"Smartphone\")\n",
    "plt.axvline(np.mean(pin), color='orange', linestyle='dashed', linewidth=5, label=\"Rechargeable battery backup\")\n",
    "plt.legend()\n",
    "plt.show()"
   ]
  },
  {
   "cell_type": "code",
   "execution_count": 28,
   "id": "ab396f93",
   "metadata": {},
   "outputs": [
    {
     "data": {
      "image/png": "[encoded data removed]",
      "text/plain": [
       "<Figure size 432x288 with 1 Axes>"
      ]
     },
     "metadata": {
      "needs_background": "light"
     },
     "output_type": "display_data"
    }
   ],
   "source": [
    "sns.boxplot(x='Item Category', y='Rate', data=df_new, color='red')\n",
    "sns.swarmplot(x=\"Item Category\", y=\"Rate\", data=df_new, color='blue')\n",
    "plt.title('Biểu diễn điểm đánh giá của sản phẩm điện thoại và sạc dự phòng ', size=18, color = 'Blue')\n",
    "plt.show()"
   ]
  },
  {
   "cell_type": "markdown",
   "id": "e7d46c57",
   "metadata": {},
   "source": [
    "## Kruskal–Wallis test\n",
    "\n",
    "Xây dựng giả thuyết:\n",
    "$$H_{0}: \\mu_{1} = \\mu_{2} = \\mu_{3} = \\mu_{4} = \\mu_{5} = \\mu_{6}$$\n",
    "$$H_{a}: \\text{Có tối thiểu một cặp giá trị trung bình có giá trị khác nhau}$$"
   ]
  },
  {
   "cell_type": "code",
   "execution_count": 29,
   "id": "d72eee0c",
   "metadata": {},
   "outputs": [
    {
     "data": {
      "text/html": [
       "<div>\n",
       "<style scoped>\n",
       "    .dataframe tbody tr th:only-of-type {\n",
       "        vertical-align: middle;\n",
       "    }\n",
       "\n",
       "    .dataframe tbody tr th {\n",
       "        vertical-align: top;\n",
       "    }\n",
       "\n",
       "    .dataframe thead th {\n",
       "        text-align: right;\n",
       "    }\n",
       "</style>\n",
       "<table border=\"1\" class=\"dataframe\">\n",
       "  <thead>\n",
       "    <tr style=\"text-align: right;\">\n",
       "      <th></th>\n",
       "      <th>Thương hiệu</th>\n",
       "      <th>score</th>\n",
       "    </tr>\n",
       "  </thead>\n",
       "  <tbody>\n",
       "    <tr>\n",
       "      <th>4548</th>\n",
       "      <td>OPPO</td>\n",
       "      <td>5</td>\n",
       "    </tr>\n",
       "    <tr>\n",
       "      <th>8397</th>\n",
       "      <td>Xiaomi</td>\n",
       "      <td>3</td>\n",
       "    </tr>\n",
       "    <tr>\n",
       "      <th>17149</th>\n",
       "      <td>Other</td>\n",
       "      <td>5</td>\n",
       "    </tr>\n",
       "    <tr>\n",
       "      <th>8063</th>\n",
       "      <td>Samsung</td>\n",
       "      <td>4</td>\n",
       "    </tr>\n",
       "    <tr>\n",
       "      <th>18802</th>\n",
       "      <td>Other</td>\n",
       "      <td>4</td>\n",
       "    </tr>\n",
       "    <tr>\n",
       "      <th>3835</th>\n",
       "      <td>Samsung</td>\n",
       "      <td>3</td>\n",
       "    </tr>\n",
       "    <tr>\n",
       "      <th>18778</th>\n",
       "      <td>Samsung</td>\n",
       "      <td>3</td>\n",
       "    </tr>\n",
       "    <tr>\n",
       "      <th>8267</th>\n",
       "      <td>Xiaomi</td>\n",
       "      <td>3</td>\n",
       "    </tr>\n",
       "    <tr>\n",
       "      <th>7613</th>\n",
       "      <td>Samsung</td>\n",
       "      <td>3</td>\n",
       "    </tr>\n",
       "    <tr>\n",
       "      <th>19892</th>\n",
       "      <td>Other</td>\n",
       "      <td>5</td>\n",
       "    </tr>\n",
       "  </tbody>\n",
       "</table>\n",
       "</div>"
      ],
      "text/plain": [
       "      Thương hiệu  score\n",
       "4548         OPPO      5\n",
       "8397       Xiaomi      3\n",
       "17149       Other      5\n",
       "8063      Samsung      4\n",
       "18802       Other      4\n",
       "3835      Samsung      3\n",
       "18778     Samsung      3\n",
       "8267       Xiaomi      3\n",
       "7613      Samsung      3\n",
       "19892       Other      5"
      ]
     },
     "execution_count": 29,
     "metadata": {},
     "output_type": "execute_result"
    }
   ],
   "source": [
    "df8 = df_reviews[['brand of Item','rate']]\n",
    "df8 = df8.rename(columns = {'brand of Item' : 'Thương hiệu', \n",
    "                           'rate' : 'score'})\n",
    "df8.sample(10)"
   ]
  },
  {
   "cell_type": "code",
   "execution_count": 42,
   "id": "7fcf7e41",
   "metadata": {},
   "outputs": [
    {
     "name": "stderr",
     "output_type": "stream",
     "text": [
      "C:\\Users\\ACER\\anaconda3\\lib\\site-packages\\seaborn\\_decorators.py:36: FutureWarning: Pass the following variable as a keyword arg: x. From version 0.12, the only valid positional argument will be `data`, and passing other arguments without an explicit keyword will result in an error or misinterpretation.\n",
      "  warnings.warn(\n"
     ]
    },
    {
     "data": {
      "image/png": "[encoded data removed]",
      "text/plain": [
       "<Figure size 720x216 with 1 Axes>"
      ]
     },
     "metadata": {
      "needs_background": "light"
     },
     "output_type": "display_data"
    },
    {
     "data": {
      "image/png": "[encoded data removed]",
      "text/plain": [
       "<Figure size 1080x432 with 1 Axes>"
      ]
     },
     "metadata": {
      "needs_background": "light"
     },
     "output_type": "display_data"
    }
   ],
   "source": [
    "plt.figure(figsize=(10,3))\n",
    "sns.countplot(df8[\"Thương hiệu\"])\n",
    "plt.show()\n",
    "plt.figure(figsize=(15,6))\n",
    "sns.countplot(x=df8[\"Thương hiệu\"], hue=df8[\"score\"], data=pd.melt(df8))\n",
    "plt.show()"
   ]
  },
  {
   "cell_type": "code",
   "execution_count": 30,
   "id": "c22d35a5",
   "metadata": {},
   "outputs": [],
   "source": [
    "brand1 = df8[df8['Thương hiệu'] == 'Apple']\n",
    "brand2 = df8[df8['Thương hiệu'] == 'Samsung']\n",
    "brand3 = df8[df8['Thương hiệu'] == 'OPPO']\n",
    "brand4 = df8[df8['Thương hiệu'] == 'Xiaomi']\n",
    "brand5 = df8[df8['Thương hiệu'] == 'Realme']\n",
    "brand6 = df8[df8['Thương hiệu'] == 'Other']"
   ]
  },
  {
   "cell_type": "code",
   "execution_count": 31,
   "id": "d753fdca",
   "metadata": {},
   "outputs": [
    {
     "name": "stdout",
     "output_type": "stream",
     "text": [
      "Giá trị kiểm định:  558.3193926552599\n",
      "p_value:  2.0415436730214528e-118\n",
      "Có bằng chứng bác bỏ giả thuyết H0. Điều này ngụ ý rằng điểm đánh giá giữa các sản phẩm đến từ thương hiệu khác nhau có sự khác biệt với mức ý nghĩa là 5% \n"
     ]
    }
   ],
   "source": [
    "from scipy.stats import kruskal\n",
    "\n",
    "\n",
    "st, pv = kruskal(brand1['score'], brand2['score'],brand3['score'], brand4['score'], brand5['score'], brand6['score'])\n",
    "print('Giá trị kiểm định: ',st)\n",
    "print('p_value: ',pv)\n",
    "if (pv < 0.05):\n",
    "    print('Có bằng chứng bác bỏ giả thuyết H0. Điều này ngụ ý rằng điểm đánh giá giữa các sản phẩm đến từ thương hiệu khác nhau có sự khác biệt với mức ý nghĩa là 5% ')\n",
    "else:\n",
    "    print(\"Không đủ bằng chứng bác bỏ giả thuyết H0.\")\n",
    "    print(\"Với mức ý nghĩa 5%: \")\n",
    "    print(\"Điều này ngụ ý rằng Điểm đánh giá giữa các sản phẩm đến từ thương hiệu khác nhau không có sự khác biệt\")"
   ]
  },
  {
   "cell_type": "code",
   "execution_count": 37,
   "id": "d3b26c94",
   "metadata": {},
   "outputs": [
    {
     "data": {
      "text/html": [
       "<div>\n",
       "<style scoped>\n",
       "    .dataframe tbody tr th:only-of-type {\n",
       "        vertical-align: middle;\n",
       "    }\n",
       "\n",
       "    .dataframe tbody tr th {\n",
       "        vertical-align: top;\n",
       "    }\n",
       "\n",
       "    .dataframe thead th {\n",
       "        text-align: right;\n",
       "    }\n",
       "</style>\n",
       "<table border=\"1\" class=\"dataframe\">\n",
       "  <thead>\n",
       "    <tr style=\"text-align: right;\">\n",
       "      <th></th>\n",
       "      <th>Apple</th>\n",
       "      <th>OPPO</th>\n",
       "      <th>Other</th>\n",
       "      <th>Realme</th>\n",
       "      <th>Samsung</th>\n",
       "      <th>Xiaomi</th>\n",
       "    </tr>\n",
       "  </thead>\n",
       "  <tbody>\n",
       "    <tr>\n",
       "      <th>Apple</th>\n",
       "      <td>1.000000e+00</td>\n",
       "      <td>1.359535e-05</td>\n",
       "      <td>8.502149e-02</td>\n",
       "      <td>1.683708e-06</td>\n",
       "      <td>9.244195e-60</td>\n",
       "      <td>1.256811e-06</td>\n",
       "    </tr>\n",
       "    <tr>\n",
       "      <th>OPPO</th>\n",
       "      <td>1.359535e-05</td>\n",
       "      <td>1.000000e+00</td>\n",
       "      <td>1.299702e-02</td>\n",
       "      <td>1.000000e+00</td>\n",
       "      <td>7.299563e-37</td>\n",
       "      <td>1.000000e+00</td>\n",
       "    </tr>\n",
       "    <tr>\n",
       "      <th>Other</th>\n",
       "      <td>8.502149e-02</td>\n",
       "      <td>1.299702e-02</td>\n",
       "      <td>1.000000e+00</td>\n",
       "      <td>1.370369e-03</td>\n",
       "      <td>2.162250e-95</td>\n",
       "      <td>1.166522e-03</td>\n",
       "    </tr>\n",
       "    <tr>\n",
       "      <th>Realme</th>\n",
       "      <td>1.683708e-06</td>\n",
       "      <td>1.000000e+00</td>\n",
       "      <td>1.370369e-03</td>\n",
       "      <td>1.000000e+00</td>\n",
       "      <td>2.649617e-19</td>\n",
       "      <td>1.000000e+00</td>\n",
       "    </tr>\n",
       "    <tr>\n",
       "      <th>Samsung</th>\n",
       "      <td>9.244195e-60</td>\n",
       "      <td>7.299563e-37</td>\n",
       "      <td>2.162250e-95</td>\n",
       "      <td>2.649617e-19</td>\n",
       "      <td>1.000000e+00</td>\n",
       "      <td>5.771772e-51</td>\n",
       "    </tr>\n",
       "    <tr>\n",
       "      <th>Xiaomi</th>\n",
       "      <td>1.256811e-06</td>\n",
       "      <td>1.000000e+00</td>\n",
       "      <td>1.166522e-03</td>\n",
       "      <td>1.000000e+00</td>\n",
       "      <td>5.771772e-51</td>\n",
       "      <td>1.000000e+00</td>\n",
       "    </tr>\n",
       "  </tbody>\n",
       "</table>\n",
       "</div>"
      ],
      "text/plain": [
       "                Apple          OPPO         Other        Realme       Samsung  \\\n",
       "Apple    1.000000e+00  1.359535e-05  8.502149e-02  1.683708e-06  9.244195e-60   \n",
       "OPPO     1.359535e-05  1.000000e+00  1.299702e-02  1.000000e+00  7.299563e-37   \n",
       "Other    8.502149e-02  1.299702e-02  1.000000e+00  1.370369e-03  2.162250e-95   \n",
       "Realme   1.683708e-06  1.000000e+00  1.370369e-03  1.000000e+00  2.649617e-19   \n",
       "Samsung  9.244195e-60  7.299563e-37  2.162250e-95  2.649617e-19  1.000000e+00   \n",
       "Xiaomi   1.256811e-06  1.000000e+00  1.166522e-03  1.000000e+00  5.771772e-51   \n",
       "\n",
       "               Xiaomi  \n",
       "Apple    1.256811e-06  \n",
       "OPPO     1.000000e+00  \n",
       "Other    1.166522e-03  \n",
       "Realme   1.000000e+00  \n",
       "Samsung  5.771772e-51  \n",
       "Xiaomi   1.000000e+00  "
      ]
     },
     "execution_count": 37,
     "metadata": {},
     "output_type": "execute_result"
    }
   ],
   "source": [
    "import scikit_posthocs as sp\n",
    "\n",
    "sp.posthoc_dunn(df8, 'score', 'Thương hiệu', 'bonferroni')"
   ]
  }
 ],
 "metadata": {
  "kernelspec": {
   "display_name": "Python 3",
   "language": "python",
   "name": "python3"
  },
  "language_info": {
   "codemirror_mode": {
    "name": "ipython",
    "version": 3
   },
   "file_extension": ".py",
   "mimetype": "text/x-python",
   "name": "python",
   "nbconvert_exporter": "python",
   "pygments_lexer": "ipython3",
   "version": "3.8.8"
  }
 },
 "nbformat": 4,
 "nbformat_minor": 5
}
